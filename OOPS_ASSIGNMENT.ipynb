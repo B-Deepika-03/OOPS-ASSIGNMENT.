{
  "nbformat": 4,
  "nbformat_minor": 0,
  "metadata": {
    "colab": {
      "provenance": []
    },
    "kernelspec": {
      "name": "python3",
      "display_name": "Python 3"
    },
    "language_info": {
      "name": "python"
    }
  },
  "cells": [
    {
      "cell_type": "markdown",
      "source": [
        "OOPS ASSIGNMENT\n",
        "\n",
        "1.What is Object-Oriented Programming (OOPS)?\n",
        "- Object-Oriented Programming is a way of writing computer programs using objects — like real-world things.\n",
        "- Object-Oriented Programming (OOPS) is a way of writing programs using objects, which are made from classes.\n",
        "OOPS helps in organizing code to make it easier to understand, reuse, and manage.\n",
        "\n",
        "2. What is a class in OOPS?\n",
        "- Class is A blueprint or template for creating objects.\n",
        "\n",
        "3. What is an object in OOPS?\n",
        "- Object is  An instance of a class.It contains actual data.\n",
        "\n",
        "4. What is the difference between abstraction and encapsulation?\n",
        "- Encapsulation is Bundling data and methods that operate on that data within a single unit (class).It helps protect internal object state (e.g., using private variables).\n",
        "- Abstraction is Hiding complex implementation details and showing only essential features.\n",
        "\n",
        " 5. What are dunder methods in Python?\n",
        " - Dunder methods are special methods in Python whose names start and end with double underscores — hence the name \"dunder\" (short for \"double underscore\").\n",
        " - Example of Dunder Methods:\n",
        "__init__() – runs when you create an object\n",
        "\n",
        "__str__() – runs when you print an object\n",
        "\n",
        "__len__() – runs when you call len() on an object\n",
        "\n",
        "__add__() – runs when you use the + operator\n",
        "\n",
        "6. Explain the concept of inheritance in OOPs?\n",
        "- Inheritance means in One class inherits attributes and methods from another class.\n",
        "\n",
        "7.  What is polymorphism in OOPS?\n",
        "- Polymorphism is The ability to use a unified interface for different data types or classes.\n",
        "\n",
        "8. How is encapsulation achieved in Python?\n",
        "- Encapsulation means hiding the internal details of how something works and only showing what is necessary.\n",
        "- In Python, encapsulation is achieved using:\n",
        "- Classes – to group data and methods together\n",
        "- Access modifiers – to control visibility of variables and methods\n",
        "\n",
        "9.  What is a constructor in Python?\n",
        "- A constructor is a special method in a class that runs automatically when an object is created.\n",
        "In Python, the constructor method is called __init__().\n",
        "- To initialize (set up) the object’s data (variables) when it's created.\n",
        "\n",
        "10. What are class and static methods in Python?\n",
        "- Class Method\n",
        "Belongs to the class, not to any one object.\n",
        "\n",
        "Can access or change class-level data.\n",
        "\n",
        "Uses the @classmethod decorator.\n",
        "\n",
        "First argument is cls (not self), which refers to the class itself.\n",
        "- Static Method\n",
        "Doesn't access class or object data.\n",
        "\n",
        "Used for utility/helper functions related to the class.\n",
        "\n",
        "Uses the @staticmethod decorator.\n",
        "\n",
        "No self or cls as first parameter.\n",
        "\n",
        "11. What is method overloading in Python?\n",
        "- Method Overloading means creating multiple methods with the same name but different number or types of arguments.\n",
        "\n",
        "12. What is method overriding in OOPS?\n",
        "- Method overriding means a child class (subclass) defines a method with the same name as one in the parent class, but with different behavior.\n",
        "- Used to change or extend the functionality of a method inherited from a parent class.\n",
        "\n",
        "13.  What is a property decorator in Python?\n",
        "- The property decorator is used to turn a method into a \"read-only\" attribute.\n",
        "It lets you access a method like a variable, without using parentheses ().\n",
        "\n",
        "14. Why is polymorphism important in OOPS?\n",
        "- Code Reusability\n",
        "\n",
        "You can write one function that works for many types of objects.\n",
        "\n",
        "Avoids repeating code for each object type.\n",
        "\n",
        "- Flexibility and Extensibility\n",
        "\n",
        "You can add new classes with different behavior, without changing existing code.\n",
        "\n",
        " Makes your program easier to grow and maintain.\n",
        "\n",
        "- Cleaner Code\n",
        "\n",
        "You don’t need to check object types manually.\n",
        "\n",
        "Just call the method — Python handles the rest.\n",
        "\n",
        "- Improves Readability\n",
        "\n",
        "Same method names across different classes make code easier to understand.\n",
        "\n",
        "15. What is an abstract class in Python?\n",
        "- An abstract class is a class that cannot be directly used to create objects.\n",
        "It’s like a template — it tells what methods must be written in any class that inherits from it.\n",
        "\n",
        "16. What are the advantages of OOPS?\n",
        "- Object-Oriented Programming (OOP) offers many benefits that make programs easier to build, manage, and scale.\n",
        "- Modularity\n",
        "- Easy to organize and manage large programs.\n",
        "- Reusability\n",
        "- Write once, use many times.\n",
        "- Scalability and Maintainability\n",
        "- Data Hiding / Security\n",
        "- Flexibility (Polymorphism)\n",
        "- Real-World Modeling\n",
        "- Improved Productivity\n",
        "- Easy to build on existing classes.\n",
        "- Reduces duplication and speeds up development.\n",
        "\n",
        "17. What is the difference between a class variable and an instance variable?\n",
        "- Class variable: Shared by all objects. Like a rule for the whole class.Belongs to\tThe class itself,Shared by\tAll objects of the class,Defined using\tInside the class, outside any method,Accessed using\tClassName.var or object.var\n",
        "- Instance variable: Belongs to one object only. Like personal info.A specific object (instance).Only the object that owns it.Inside the class, within a method (usually __init__).Only via the object: object.var\n",
        "\n",
        "18. What is multiple inheritance in Python?\n",
        "- Multiple Inheritance means a class can inherit from more than one parent class.Reuse code from multiple classes.Combine features of different classes into one.\n",
        "\n",
        "19.  Explain the purpose of ‘’__str__’ and ‘__repr__’ ‘ methods in Python?\n",
        "- __str__() – User-Friendly String\n",
        "Used when you call print(object)\n",
        "\n",
        "Meant to be readable and user-friendly\n",
        "\n",
        "Used for end-users\n",
        "- __repr__() – Developer-Friendly String\n",
        "Used in debugging, or when you just type the object in the console\n",
        "\n",
        "Meant to be unambiguous, often like Python code\n",
        "\n",
        "Used for developers\n",
        "\n",
        "20. What is the significance of the ‘super()’ function in Python?\n",
        "- Avoids rewriting code from the parent class\n",
        "- Helps with constructor chaining\n",
        "- Makes multiple inheritance safer and more manageable\n",
        "- Supports method overriding properly\n",
        "\n",
        "21. What is the significance of the __del__ method in Python?\n",
        "- To clean up resources like files, network connections, or memory when the object is no longer needed.\n",
        "- Acts like a goodbye function for an object.\n",
        "- It is a special method that runs automatically when an object is about to be destroyed\n",
        "\n",
        "22.  What is the difference between @staticmethod and @classmethod in Python?\n",
        "- @staticmethod\n",
        "A @staticmethod is a method that does not need access to either the class (cls) or the object (self). It's just a regular function that happens to live inside a class. We use it when the method doesn't need to know anything about the class or its instances, but logically, it belongs inside the class (for better organization).\n",
        "-  @classmethod\n",
        "A @classmethod have access to the class. It takes cls as its first parameter, which refers to the class itself, not the object. You use it when you need to work with class-level data, like modifying class variables or creating objects in a special way (known as factory methods).\n",
        "It’s useful when your method needs to know which class it's working with, when we dealing with inheritance or class configuration.\n",
        "\n",
        "23.  How does polymorphism work in Python with inheritance?\n",
        "- Polymorphism in Python means that a single method name can do different things, depending on which class is calling it.\n",
        "When we use inheritance, child classes can override methods from the parent class, and Python decides at runtime which version of the method to call.\n",
        "\n",
        "24. What is method chaining in Python OOPS?\n",
        "- Method chaining means calling multiple methods one after another on the same object — all in a single line — like a chain.\n",
        "This is possible when each method returns the object itself, usually using return self.\n",
        "\n",
        "25. What is the purpose of the __call__ method in Python?\n",
        "- The __call__() method in Python makes an object behave like a function.\n",
        "It allows you to call an object as if it were a regular function.\n",
        "- Add function-like behavior to your class instances\n",
        "- Use objects as function wrappers, counters, loggers, or handlers\n",
        "- Makes code more flexible and reusable\n",
        "\n",
        "\n",
        "\n",
        "\n",
        "\n",
        "\n",
        "\n"
      ],
      "metadata": {
        "id": "dhA1sVhmLGqG"
      }
    },
    {
      "cell_type": "markdown",
      "source": [
        "PRACTICAL QUESTIONS"
      ],
      "metadata": {
        "id": "nBiwOh3qT6Gl"
      }
    },
    {
      "cell_type": "code",
      "execution_count": 2,
      "metadata": {
        "colab": {
          "base_uri": "https://localhost:8080/"
        },
        "id": "D5Efn0G5LEJR",
        "outputId": "e5f0d744-348b-45ac-a800-75fdb33e8dd7"
      },
      "outputs": [
        {
          "output_type": "stream",
          "name": "stdout",
          "text": [
            "Animal makes a sound\n"
          ]
        }
      ],
      "source": [
        "#1.Create a parent class Animal with a method speak() that prints a generic message. Create a child class Dog that overrides the speak() method to print \"Bark!\"\n",
        "\n",
        "class Animal:\n",
        "    def speak(self):\n",
        "        print(\"Animal makes a sound\")\n",
        "class Dog(Animal):\n",
        "    def speak(self):\n",
        "        print(\"Bark!\")\n",
        "a = Animal()\n",
        "a.speak()\n"
      ]
    },
    {
      "cell_type": "code",
      "source": [
        "d = Dog()\n",
        "d.speak()"
      ],
      "metadata": {
        "colab": {
          "base_uri": "https://localhost:8080/"
        },
        "id": "pNF4bTh1UfMS",
        "outputId": "94c23558-426c-4394-b19f-5fbaaab81a84"
      },
      "execution_count": 3,
      "outputs": [
        {
          "output_type": "stream",
          "name": "stdout",
          "text": [
            "Bark!\n"
          ]
        }
      ]
    },
    {
      "cell_type": "code",
      "source": [
        "#2.Write a program to create an abstract class Shape with a method area(). Derive classes Circle and Rectangle from it and implement the area() method in both\n",
        "\n",
        "from abc import ABC, abstractmethod\n",
        "import math\n",
        "class Shape(ABC):\n",
        "    @abstractmethod\n",
        "    def area(self):\n",
        "        pass\n",
        "class Circle(Shape):\n",
        "    def __init__(self, radius):\n",
        "        self.radius = radius\n",
        "\n",
        "    def area(self):\n",
        "        return math.pi * self.radius ** 2\n",
        "class Rectangle(Shape):\n",
        "    def __init__(self, length, width):\n",
        "        self.length = length\n",
        "        self.width = width\n",
        "\n",
        "    def area(self):\n",
        "        return self.length * self.width\n",
        "c = Circle(5)\n",
        "print(f\"Area of Circle: {c.area():.2f}\")\n"
      ],
      "metadata": {
        "colab": {
          "base_uri": "https://localhost:8080/"
        },
        "id": "LbMTd91bUlwW",
        "outputId": "3a535922-eb73-487e-be8c-dd556cb61965"
      },
      "execution_count": 6,
      "outputs": [
        {
          "output_type": "stream",
          "name": "stdout",
          "text": [
            "Area of Circle: 78.54\n"
          ]
        }
      ]
    },
    {
      "cell_type": "code",
      "source": [
        "r = Rectangle(4, 6)\n",
        "print(f\"Area of Rectangle: {r.area()}\")"
      ],
      "metadata": {
        "colab": {
          "base_uri": "https://localhost:8080/"
        },
        "id": "I3wUa7LqVJLt",
        "outputId": "ddae42a9-ad57-48f8-a6b4-810edb04b9c2"
      },
      "execution_count": 7,
      "outputs": [
        {
          "output_type": "stream",
          "name": "stdout",
          "text": [
            "Area of Rectangle: 24\n"
          ]
        }
      ]
    },
    {
      "cell_type": "code",
      "source": [
        "#3. Implement a multi-level inheritance scenario where a class Vehicle has an attribute type. Derive a class Car and further derive a class ElectricCar that adds a battery attribute.\n",
        "\n",
        "# Base class\n",
        "class Vehicle:\n",
        "    def __init__(self, vehicle_type):\n",
        "        self.vehicle_type = vehicle_type\n",
        "\n",
        "    def show_type(self):\n",
        "        print(f\"Vehicle Type: {self.vehicle_type}\")\n",
        "\n",
        "# Derived class from Vehicle\n",
        "class Car(Vehicle):\n",
        "    def __init__(self, vehicle_type, brand):\n",
        "        super().__init__(vehicle_type)  # Call Vehicle's constructor\n",
        "        self.brand = brand\n",
        "\n",
        "    def show_brand(self):\n",
        "        print(f\"Car Brand: {self.brand}\")\n",
        "\n",
        "# Derived class from Car (multi-level inheritance)\n",
        "class ElectricCar(Car):\n",
        "    def __init__(self, vehicle_type, brand, battery_capacity):\n",
        "        super().__init__(vehicle_type, brand)  # Call Car's constructor\n",
        "        self.battery_capacity = battery_capacity\n",
        "\n",
        "    def show_battery(self):\n",
        "        print(f\"Battery Capacity: {self.battery_capacity} kWh\")\n",
        "\n",
        "# Creating an object of ElectricCar\n",
        "ecar = ElectricCar(\"Four-wheeler\", \"Tesla\", 75)\n",
        "ecar.show_type()      # From Vehicle\n",
        "ecar.show_brand()     # From Car\n",
        "ecar.show_battery()   # From ElectricCar\n"
      ],
      "metadata": {
        "colab": {
          "base_uri": "https://localhost:8080/"
        },
        "id": "bd5smLkCVKCd",
        "outputId": "89571ab4-3c78-42bc-e5a5-5f43c604498d"
      },
      "execution_count": 8,
      "outputs": [
        {
          "output_type": "stream",
          "name": "stdout",
          "text": [
            "Vehicle Type: Four-wheeler\n",
            "Car Brand: Tesla\n",
            "Battery Capacity: 75 kWh\n"
          ]
        }
      ]
    },
    {
      "cell_type": "code",
      "source": [
        "#4.  Demonstrate polymorphism by creating a base class Bird with a method fly(). Create two derived classes Sparrow and Penguin that override the fly() method.\n",
        "\n",
        "class Bird:\n",
        "    def fly(self):\n",
        "        print(\"Birds can fly\")\n",
        "class Sparrow(Bird):\n",
        "    def fly(self):\n",
        "        print(\"Sparrow flies high in the sky\")\n",
        "class Penguin(Bird):\n",
        "    def fly(self):\n",
        "        print(\"Penguins cannot fly, they swim instead\")\n",
        "\n",
        "# Polymorphic function\n",
        "def bird_flight(bird):\n",
        "    bird.fly()\n",
        "b1 = Sparrow()\n",
        "b2 = Penguin()\n",
        "bird_flight(b1)\n",
        "bird_flight(b2)"
      ],
      "metadata": {
        "colab": {
          "base_uri": "https://localhost:8080/"
        },
        "id": "K6B8v9UHV7Pf",
        "outputId": "a9771805-3975-41d2-8fbb-0d917dc5a059"
      },
      "execution_count": 10,
      "outputs": [
        {
          "output_type": "stream",
          "name": "stdout",
          "text": [
            "Sparrow flies high in the sky\n",
            "Penguins cannot fly, they swim instead\n"
          ]
        }
      ]
    },
    {
      "cell_type": "code",
      "source": [
        "#5.  Write a program to demonstrate encapsulation by creating a class BankAccount with private attributes balance and methods to deposit, withdraw, and check balance\n",
        "\n",
        "class BankAccount:\n",
        "    def __init__(self, initial_balance=0):\n",
        "        self.__balance = initial_balance\n",
        "\n",
        "    def deposit(self, amount):\n",
        "        if amount > 0:\n",
        "            self.__balance += amount\n",
        "            print(f\"Deposited ₹{amount}\")\n",
        "        else:\n",
        "            print(\"Deposit amount must be positive\")\n",
        "\n",
        "    def withdraw(self, amount):\n",
        "        if amount <= self.__balance:\n",
        "            self.__balance -= amount\n",
        "            print(f\"Withdrew ₹{amount}\")\n",
        "        else:\n",
        "            print(\"Insufficient balance\")\n",
        "\n",
        "    def check_balance(self):\n",
        "        print(f\"Current Balance: ₹{self.__balance}\")\n",
        "\n",
        "account = BankAccount(1000)\n",
        "account.deposit(500)\n",
        "account.withdraw(200)\n",
        "account.check_balance()\n"
      ],
      "metadata": {
        "colab": {
          "base_uri": "https://localhost:8080/"
        },
        "id": "1GPTKo7JWYKj",
        "outputId": "7a9361da-f200-4377-d580-a1dfe323af85"
      },
      "execution_count": 12,
      "outputs": [
        {
          "output_type": "stream",
          "name": "stdout",
          "text": [
            "Deposited ₹500\n",
            "Withdrew ₹200\n",
            "Current Balance: ₹1300\n"
          ]
        }
      ]
    },
    {
      "cell_type": "code",
      "source": [
        "#6. Demonstrate runtime polymorphism using a method play() in a base class Instrument. Derive classes Guitar and Piano that implement their own version of play()\n",
        "\n",
        "# Base class\n",
        "class Instrument:\n",
        "    def play(self):\n",
        "        print(\"Instrument is playing\")\n",
        "class Guitar(Instrument):\n",
        "    def play(self):\n",
        "        print(\"Strumming the guitar\")\n",
        "class Piano(Instrument):\n",
        "    def play(self):\n",
        "        print(\"Playing the piano\")\n",
        "\n",
        "# Polymorphic function\n",
        "def start_playing(instrument):\n",
        "    instrument.play()\n",
        "g = Guitar()\n",
        "p = Piano()\n",
        "start_playing(g)"
      ],
      "metadata": {
        "colab": {
          "base_uri": "https://localhost:8080/"
        },
        "id": "yoaXZyeqW1lF",
        "outputId": "3de10d6b-ad73-4dba-dd90-410db64716bc"
      },
      "execution_count": 13,
      "outputs": [
        {
          "output_type": "stream",
          "name": "stdout",
          "text": [
            "Strumming the guitar\n"
          ]
        }
      ]
    },
    {
      "cell_type": "code",
      "source": [
        "start_playing(p)"
      ],
      "metadata": {
        "colab": {
          "base_uri": "https://localhost:8080/"
        },
        "id": "Z2TleV9NXbUU",
        "outputId": "feebe8ca-db7f-445e-bd58-c149b27415c0"
      },
      "execution_count": 14,
      "outputs": [
        {
          "output_type": "stream",
          "name": "stdout",
          "text": [
            "Playing the piano\n"
          ]
        }
      ]
    },
    {
      "cell_type": "code",
      "source": [
        "# 7. Create a class MathOperations with a class method add_numbers() to add two numbers and a static method subtract_numbers() to subtract two numbers\n",
        "\n",
        "class MathOperations:\n",
        "    @classmethod\n",
        "    def add_numbers(cls, a, b):\n",
        "        return a + b\n",
        "\n",
        "    @staticmethod\n",
        "    def subtract_numbers(a, b):\n",
        "        return a - b\n",
        "\n",
        "# Using the class method\n",
        "sum_result = MathOperations.add_numbers(10, 5)\n",
        "print(f\"Sum: {sum_result}\")\n"
      ],
      "metadata": {
        "colab": {
          "base_uri": "https://localhost:8080/"
        },
        "id": "6CIUgG9DXe9f",
        "outputId": "fb6bee7e-030c-41cd-a3bf-3d95515f9fba"
      },
      "execution_count": 15,
      "outputs": [
        {
          "output_type": "stream",
          "name": "stdout",
          "text": [
            "Sum: 15\n"
          ]
        }
      ]
    },
    {
      "cell_type": "code",
      "source": [
        "# Using the static method\n",
        "diff_result = MathOperations.subtract_numbers(10, 5)\n",
        "print(f\"Difference: {diff_result}\")"
      ],
      "metadata": {
        "colab": {
          "base_uri": "https://localhost:8080/"
        },
        "id": "oeQZXgCBX3Wu",
        "outputId": "64ec2887-9a1b-4c17-9a2f-5a6b30dae548"
      },
      "execution_count": 16,
      "outputs": [
        {
          "output_type": "stream",
          "name": "stdout",
          "text": [
            "Difference: 5\n"
          ]
        }
      ]
    },
    {
      "cell_type": "code",
      "source": [
        "# 8. Implement a class Person with a class method to count the total number of persons created\n",
        "class Person:\n",
        "    count = 0\n",
        "    def __init__(self, name):\n",
        "        self.name = name\n",
        "        Person.count += 1\n",
        "    @classmethod\n",
        "    def total_persons(cls):\n",
        "        print(f\"Total Persons Created: {cls.count}\")\n",
        "p1 = Person(\"deepika\")\n",
        "p2 = Person(\"anusha\")\n",
        "p3 = Person(\"varudhini\")\n",
        "Person.total_persons()\n"
      ],
      "metadata": {
        "colab": {
          "base_uri": "https://localhost:8080/"
        },
        "id": "uk3XfRZ2X7KX",
        "outputId": "c6aba526-33b4-453b-aac7-8172292a0d5a"
      },
      "execution_count": 17,
      "outputs": [
        {
          "output_type": "stream",
          "name": "stdout",
          "text": [
            "Total Persons Created: 3\n"
          ]
        }
      ]
    },
    {
      "cell_type": "code",
      "source": [
        "# 9. Write a class Fraction with attributes numerator and denominator. Override the str method to display the fraction as \"numerator/denominator\".\n",
        "\n",
        "class Fraction:\n",
        "    def __init__(self, numerator, denominator):\n",
        "        self.numerator = numerator\n",
        "        self.denominator = denominator\n",
        "\n",
        "    def __str__(self):\n",
        "        return f\"{self.numerator}/{self.denominator}\"\n",
        "\n",
        "# Create Fraction object\n",
        "f1 = Fraction(3, 4)\n",
        "print(f1)\n"
      ],
      "metadata": {
        "colab": {
          "base_uri": "https://localhost:8080/"
        },
        "id": "OduXPEdVYTsW",
        "outputId": "3c8ac6a1-3b3b-4f70-9390-2d927caf25df"
      },
      "execution_count": 18,
      "outputs": [
        {
          "output_type": "stream",
          "name": "stdout",
          "text": [
            "3/4\n"
          ]
        }
      ]
    },
    {
      "cell_type": "code",
      "source": [
        "f2 = Fraction(5, 2)\n",
        "print(f2)"
      ],
      "metadata": {
        "colab": {
          "base_uri": "https://localhost:8080/"
        },
        "id": "mn6hjvB0YgqL",
        "outputId": "a7a200b6-5fc6-421e-a78d-a6629784f07a"
      },
      "execution_count": 19,
      "outputs": [
        {
          "output_type": "stream",
          "name": "stdout",
          "text": [
            "5/2\n"
          ]
        }
      ]
    },
    {
      "cell_type": "code",
      "source": [
        "# 10. Demonstrate operator overloading by creating a class Vector and overriding the add method to add two vectors.\n",
        "\n",
        "class Vector:\n",
        "    def __init__(self, x, y):\n",
        "        self.x = x\n",
        "        self.y = y\n",
        "    def __add__(self, other):\n",
        "        return Vector(self.x + other.x, self.y + other.y)\n",
        "\n",
        "    def __str__(self):\n",
        "        return f\"Vector({self.x}, {self.y})\"\n",
        "v1 = Vector(2, 3)\n",
        "v2 = Vector(4, 5)\n",
        "# Add the vectors using +\n",
        "v3 = v1 + v2\n",
        "print(v3)\n"
      ],
      "metadata": {
        "colab": {
          "base_uri": "https://localhost:8080/"
        },
        "id": "AVp7IYsVYk9H",
        "outputId": "ac1d93b9-46f5-4d52-93ad-6e81c78b036d"
      },
      "execution_count": 20,
      "outputs": [
        {
          "output_type": "stream",
          "name": "stdout",
          "text": [
            "Vector(6, 8)\n"
          ]
        }
      ]
    },
    {
      "cell_type": "code",
      "source": [
        "#11. Create a class Person with attributes name and age. Add a method greet() that prints \"Hello, my name is {name} and I am {age} years old.\n",
        "\n",
        "class Person:\n",
        "    def __init__(self, name, age):\n",
        "        self.name = name\n",
        "        self.age = age\n",
        "\n",
        "    def greet(self):\n",
        "        print(f\"Hello, my name is {self.name} and I am {self.age} years old.\")\n",
        "p1 = Person(\"Deepika\", 23)\n",
        "p1.greet()\n"
      ],
      "metadata": {
        "colab": {
          "base_uri": "https://localhost:8080/"
        },
        "id": "oSwvaQdhY2d3",
        "outputId": "f7581712-997f-470b-9f5a-4ef0a44b449e"
      },
      "execution_count": 21,
      "outputs": [
        {
          "output_type": "stream",
          "name": "stdout",
          "text": [
            "Hello, my name is Deepika and I am 23 years old.\n"
          ]
        }
      ]
    },
    {
      "cell_type": "code",
      "source": [
        "#12. Implement a class Student with attributes name and grades. Create a method average_grade() to compute the average of the grades\n",
        "\n",
        "class Student:\n",
        "    def __init__(self, name, grades):\n",
        "        self.name = name\n",
        "        self.grades = grades\n",
        "    def average_grade(self):\n",
        "        if len(self.grades) == 0:\n",
        "            return 0\n",
        "        return sum(self.grades) / len(self.grades)\n",
        "\n",
        "s1 = Student(\"Deepika\", [85, 90, 78, 92])\n",
        "print(f\"{s1.name}'s average grade is: {s1.average_grade():.2f}\")\n"
      ],
      "metadata": {
        "colab": {
          "base_uri": "https://localhost:8080/"
        },
        "id": "oLIqhB_mZHKN",
        "outputId": "aa20812f-0a1e-4997-c0e0-f9457ee026a2"
      },
      "execution_count": 23,
      "outputs": [
        {
          "output_type": "stream",
          "name": "stdout",
          "text": [
            "Deepika's average grade is: 86.25\n"
          ]
        }
      ]
    },
    {
      "cell_type": "code",
      "source": [
        "#13. Create a class Rectangle with methods set_dimensions() to set the dimensions and area() to calculate the area.\n",
        "\n",
        "class Rectangle:\n",
        "    def __init__(self):\n",
        "        self.length = 0\n",
        "        self.width = 0\n",
        "\n",
        "    def set_dimensions(self, length, width):\n",
        "        self.length = length\n",
        "        self.width = width\n",
        "\n",
        "    def area(self):\n",
        "        return self.length * self.width\n",
        "rect = Rectangle()\n",
        "rect.set_dimensions(5, 4)\n",
        "print(f\"Area of the rectangle: {rect.area()}\")\n"
      ],
      "metadata": {
        "colab": {
          "base_uri": "https://localhost:8080/"
        },
        "id": "TstBseSVZcaE",
        "outputId": "2deeb381-e22e-4284-ba32-ee5a30010887"
      },
      "execution_count": 24,
      "outputs": [
        {
          "output_type": "stream",
          "name": "stdout",
          "text": [
            "Area of the rectangle: 20\n"
          ]
        }
      ]
    },
    {
      "cell_type": "code",
      "source": [
        "# 14. Create a class Employee with a method calculate_salary() that computes the salary based on hours worked and hourly rate. Create a derived class Manager that adds a bonus to the salary\n",
        "\n",
        "class Employee:\n",
        "    def __init__(self, name, hours_worked, hourly_rate):\n",
        "        self.name = name\n",
        "        self.hours_worked = hours_worked\n",
        "        self.hourly_rate = hourly_rate\n",
        "\n",
        "    def calculate_salary(self):\n",
        "        return self.hours_worked * self.hourly_rate\n",
        "\n",
        "class Manager(Employee):\n",
        "    def __init__(self, name, hours_worked, hourly_rate, bonus):\n",
        "        super().__init__(name, hours_worked, hourly_rate)\n",
        "        self.bonus = bonus\n",
        "\n",
        "    def calculate_salary(self):\n",
        "        base_salary = super().calculate_salary()\n",
        "        return base_salary + self.bonus\n",
        "\n",
        "emp = Employee(\"Bhargav\", 90, 400)\n",
        "print(f\"{emp.name}'s Salary: ₹{emp.calculate_salary()}\")\n"
      ],
      "metadata": {
        "colab": {
          "base_uri": "https://localhost:8080/"
        },
        "id": "N3gLi01WZuSR",
        "outputId": "ed9b28d4-87c0-47a6-a274-88b765dfbfdf"
      },
      "execution_count": 33,
      "outputs": [
        {
          "output_type": "stream",
          "name": "stdout",
          "text": [
            "Bhargav's Salary: ₹36000\n"
          ]
        }
      ]
    },
    {
      "cell_type": "code",
      "source": [
        "mgr = Manager(\"Deepika\", 400, 250, 500)\n",
        "print(f\"{mgr.name}'s Salary: ₹{mgr.calculate_salary()}\")"
      ],
      "metadata": {
        "colab": {
          "base_uri": "https://localhost:8080/"
        },
        "id": "VgRnKrUkaEdq",
        "outputId": "d2f64f78-68eb-485a-83e0-011e0a960fd7"
      },
      "execution_count": 32,
      "outputs": [
        {
          "output_type": "stream",
          "name": "stdout",
          "text": [
            "Deepika's Salary: ₹100500\n"
          ]
        }
      ]
    },
    {
      "cell_type": "code",
      "source": [
        "#15. Create a class Product with attributes name, price, and quantity. Implement a method total_price() that calculates the total price of the product\n",
        "\n",
        "class Product:\n",
        "    def __init__(self, name, price, quantity):\n",
        "        self.name = name\n",
        "        self.price = price\n",
        "        self.quantity = quantity\n",
        "\n",
        "    def total_price(self):\n",
        "        return self.price * self.quantity\n",
        "product1 = Product(\"Laptop\", 50000, 2)\n",
        "print(f\"Total price for {product1.name}: ₹{product1.total_price()}\")\n"
      ],
      "metadata": {
        "colab": {
          "base_uri": "https://localhost:8080/"
        },
        "id": "aI5Gw6mpaXIQ",
        "outputId": "f532577b-68ea-4106-c8b8-66c147442acb"
      },
      "execution_count": 34,
      "outputs": [
        {
          "output_type": "stream",
          "name": "stdout",
          "text": [
            "Total price for Laptop: ₹100000\n"
          ]
        }
      ]
    },
    {
      "cell_type": "code",
      "source": [
        "# 16. Create a class Animal with an abstract method sound(). Create two derived classes Cow and Sheep that implement the sound() method.\n",
        "\n",
        "from abc import ABC, abstractmethod\n",
        "class Animal(ABC):\n",
        "    @abstractmethod\n",
        "    def sound(self):\n",
        "        pass\n",
        "class Cow(Animal):\n",
        "    def sound(self):\n",
        "        print(\"Cow says: Moo\")\n",
        "class Sheep(Animal):\n",
        "    def sound(self):\n",
        "        print(\"Sheep says: Baa\")\n",
        "cow = Cow()\n",
        "sheep = Sheep()\n",
        "\n",
        "cow.sound()\n"
      ],
      "metadata": {
        "colab": {
          "base_uri": "https://localhost:8080/"
        },
        "id": "FaEkkNqga5LX",
        "outputId": "2b0de7d9-b54a-4a84-c2e2-1a2645d511b1"
      },
      "execution_count": 35,
      "outputs": [
        {
          "output_type": "stream",
          "name": "stdout",
          "text": [
            "Cow says: Moo\n"
          ]
        }
      ]
    },
    {
      "cell_type": "code",
      "source": [
        "sheep.sound()"
      ],
      "metadata": {
        "colab": {
          "base_uri": "https://localhost:8080/"
        },
        "id": "uVFNrgjzbL94",
        "outputId": "c8f08f93-5c1a-4606-f0e2-d1cac6c02b11"
      },
      "execution_count": 36,
      "outputs": [
        {
          "output_type": "stream",
          "name": "stdout",
          "text": [
            "Sheep says: Baa\n"
          ]
        }
      ]
    },
    {
      "cell_type": "code",
      "source": [
        "# 17. Create a class Book with attributes title, author, and year_published. Add a method get_book_info() that returns a formatted string with the book's details.\n",
        "\n",
        "class Book:\n",
        "    def __init__(self, title, author, year_published):\n",
        "        self.title = title\n",
        "        self.author = author\n",
        "        self.year_published = year_published\n",
        "\n",
        "    def get_book_info(self):\n",
        "        return f\"'{self.title}' by {self.author} (Published: {self.year_published})\"\n",
        "book1 = Book(\"Harry Potter\", \"J.K. Rowling\", 1997)\n",
        "print(book1.get_book_info())\n"
      ],
      "metadata": {
        "colab": {
          "base_uri": "https://localhost:8080/"
        },
        "id": "sekGqImXbQHW",
        "outputId": "4c07628c-6213-4b6c-b238-e50d92603db8"
      },
      "execution_count": 41,
      "outputs": [
        {
          "output_type": "stream",
          "name": "stdout",
          "text": [
            "'Harry Potter' by J.K. Rowling (Published: 1997)\n"
          ]
        }
      ]
    },
    {
      "cell_type": "code",
      "source": [
        "# 18. Create a class House with attributes address and price. Create a derived class Mansion that adds an attribute number_of_rooms\n",
        "\n",
        "class House:\n",
        "    def __init__(self, address, price):\n",
        "        self.address = address\n",
        "        self.price = price\n",
        "\n",
        "    def display_info(self):\n",
        "        print(f\"Address: {self.address}\")\n",
        "        print(f\"Price: ₹{self.price}\")\n",
        "\n",
        "class Mansion(House):\n",
        "    def __init__(self, address, price, number_of_rooms):\n",
        "        super().__init__(address, price)\n",
        "        self.number_of_rooms = number_of_rooms\n",
        "\n",
        "    def display_info(self):\n",
        "        super().display_info()\n",
        "        print(f\"Number of Rooms: {self.number_of_rooms}\")\n",
        "m = Mansion(\"Brindhavan colony road - Deepika's mansion, Vijayawada\", 50000000, 10)\n",
        "m.display_info()\n"
      ],
      "metadata": {
        "colab": {
          "base_uri": "https://localhost:8080/"
        },
        "id": "uIEcfCJbbcRp",
        "outputId": "8207f154-d54d-44bd-f1e2-353c9438ff88"
      },
      "execution_count": 43,
      "outputs": [
        {
          "output_type": "stream",
          "name": "stdout",
          "text": [
            "Address: Brindhavan colony road - Deepika's mansion, Vijayawada\n",
            "Price: ₹50000000\n",
            "Number of Rooms: 10\n"
          ]
        }
      ]
    },
    {
      "cell_type": "code",
      "source": [],
      "metadata": {
        "id": "r6S57iK2cInJ"
      },
      "execution_count": null,
      "outputs": []
    }
  ]
}